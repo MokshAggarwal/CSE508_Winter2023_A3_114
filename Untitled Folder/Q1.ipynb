{
 "cells": [
  {
   "cell_type": "code",
   "execution_count": 1,
   "id": "d6727c65",
   "metadata": {},
   "outputs": [],
   "source": [
    "import pandas as pd\n",
    "from tqdm import tqdm\n",
    "import numpy as np\n",
    "import matplotlib.pyplot as plt"
   ]
  },
  {
   "cell_type": "code",
   "execution_count": 2,
   "id": "39cf8925",
   "metadata": {},
   "outputs": [
    {
     "name": "stdout",
     "output_type": "stream",
     "text": [
      "103692\n"
     ]
    }
   ],
   "source": [
    "data = pd.read_csv(\"../data/Wiki-Vote.txt\", index_col = False)\n",
    "print(len(data))"
   ]
  },
  {
   "cell_type": "code",
   "execution_count": 3,
   "id": "1196cae9",
   "metadata": {},
   "outputs": [],
   "source": [
    "# st = data.iloc[5][0]\n",
    "# print(st)\n",
    "# nums = st.split()\n",
    "# print(nums)"
   ]
  },
  {
   "cell_type": "code",
   "execution_count": 4,
   "id": "a81e1e4f",
   "metadata": {
    "scrolled": true
   },
   "outputs": [
    {
     "name": "stderr",
     "output_type": "stream",
     "text": [
      "100%|███████████████████████████████████████████████████████████████████████| 103689/103689 [00:07<00:00, 13228.99it/s]\n"
     ]
    }
   ],
   "source": [
    "adj_matrix = {}\n",
    "unique_nodes = []\n",
    "\n",
    "for i in tqdm(range(3, len(data))):\n",
    "    st = data.iloc[i][0]\n",
    "    nodes = st.split()\n",
    "    node1 = int(nodes[0])\n",
    "    node2 = int(nodes[1])\n",
    "    unique_nodes.append(node1)\n",
    "    unique_nodes.append(node2)\n",
    "    \n",
    "    if node1 not in adj_matrix.keys():\n",
    "        adj_matrix[node1] = []\n",
    "        adj_matrix[node1].append(node2)\n",
    "    \n",
    "    else:\n",
    "        adj_matrix[node1].append(node2)\n",
    "        \n",
    "unique_nodes = list(set(unique_nodes))\n",
    "num_nodes = len(unique_nodes)\n",
    "        \n",
    "for node in unique_nodes:\n",
    "    if node not in adj_matrix.keys():\n",
    "        adj_matrix[node] = []\n",
    "    adj_matrix[node] = list(set(adj_matrix[node]))"
   ]
  },
  {
   "cell_type": "code",
   "execution_count": 5,
   "id": "5d2509a6",
   "metadata": {},
   "outputs": [],
   "source": [
    "num_edges = 0\n",
    "\n",
    "for node in unique_nodes:\n",
    "    num_edges += len(adj_matrix[node])"
   ]
  },
  {
   "cell_type": "code",
   "execution_count": 6,
   "id": "b2902a88",
   "metadata": {},
   "outputs": [
    {
     "name": "stderr",
     "output_type": "stream",
     "text": [
      "100%|█████████████████████████████████████████████████████████████████████████████| 7115/7115 [00:22<00:00, 316.48it/s]\n"
     ]
    }
   ],
   "source": [
    "in_degree = {}\n",
    "max_ind = -1\n",
    "max_node_ind = 0\n",
    "\n",
    "for node1 in tqdm(unique_nodes):\n",
    "    degree = 0\n",
    "    for node2 in unique_nodes:\n",
    "        if node1 in adj_matrix[node2]:\n",
    "            degree += 1\n",
    "            \n",
    "    if max_ind < degree:\n",
    "        max_ind = degree\n",
    "        max_node_ind = node1\n",
    "        \n",
    "    in_degree[node1] = degree"
   ]
  },
  {
   "cell_type": "code",
   "execution_count": 7,
   "id": "4d28668b",
   "metadata": {},
   "outputs": [
    {
     "data": {
      "text/plain": [
       "14.573295853829936"
      ]
     },
     "execution_count": 7,
     "metadata": {},
     "output_type": "execute_result"
    }
   ],
   "source": [
    "# sum(in_degree.values()) / len(in_degree)"
   ]
  },
  {
   "cell_type": "code",
   "execution_count": 8,
   "id": "be54eb11",
   "metadata": {},
   "outputs": [],
   "source": [
    "out_degree = {}\n",
    "max_otd = -1\n",
    "max_node_otd = 0\n",
    "\n",
    "for node in unique_nodes:\n",
    "    degree = len(adj_matrix[node])\n",
    "    out_degree[node] = degree\n",
    "    \n",
    "    if max_otd < degree:\n",
    "        max_otd = degree\n",
    "        max_node_otd = node"
   ]
  },
  {
   "cell_type": "code",
   "execution_count": 9,
   "id": "cd070de8",
   "metadata": {},
   "outputs": [],
   "source": [
    "# print(max_node_ind, max_node_otd)"
   ]
  },
  {
   "cell_type": "code",
   "execution_count": 10,
   "id": "cc96ff56",
   "metadata": {},
   "outputs": [],
   "source": [
    "density = num_edges / (num_nodes * (num_nodes - 1))"
   ]
  },
  {
   "cell_type": "code",
   "execution_count": 11,
   "id": "c7dcc886",
   "metadata": {},
   "outputs": [
    {
     "name": "stdout",
     "output_type": "stream",
     "text": [
      "Number of nodes : 7115\n",
      "Number of edges : 103689\n",
      "Averge Indegree : 14.573295853829936\n",
      "Average Outdegree : 14.573295853829936\n",
      "Node with maximum Indegree : 4037\n",
      "Node with maximum Outdegree : 2565\n",
      "Density of the network : 0.0020485375110809584\n"
     ]
    }
   ],
   "source": [
    "print(f\"Number of nodes : {num_nodes}\")\n",
    "print(f\"Number of edges : {num_edges}\")\n",
    "print(f\"Averge Indegree : {sum(in_degree.values()) / len(in_degree)}\")\n",
    "print(f\"Average Outdegree : {sum(out_degree.values()) / len(out_degree)}\")\n",
    "print(f\"Node with maximum Indegree : {max_node_ind}\")\n",
    "print(f\"Node with maximum Outdegree : {max_node_otd}\")\n",
    "print(f\"Density of the network : {density}\")"
   ]
  },
  {
   "cell_type": "code",
   "execution_count": 12,
   "id": "5e059c3f",
   "metadata": {},
   "outputs": [
    {
     "data": {
      "image/png": "[encoded data removed]",
      "text/plain": [
       "<Figure size 432x288 with 1 Axes>"
      ]
     },
     "metadata": {
      "needs_background": "light"
     },
     "output_type": "display_data"
    }
   ],
   "source": [
    "plt.hist(in_degree.values())\n",
    "plt.title(\"In-Degrees\")\n",
    "plt.show()"
   ]
  },
  {
   "cell_type": "code",
   "execution_count": 13,
   "id": "8abc0c55",
   "metadata": {},
   "outputs": [
    {
     "data": {
      "image/png": "[encoded data removed]",
      "text/plain": [
       "<Figure size 432x288 with 1 Axes>"
      ]
     },
     "metadata": {
      "needs_background": "light"
     },
     "output_type": "display_data"
    }
   ],
   "source": [
    "plt.hist(out_degree.values())\n",
    "plt.title(\"Out-Degrees\")\n",
    "plt.show()"
   ]
  },
  {
   "cell_type": "code",
   "execution_count": null,
   "id": "991bea6e",
   "metadata": {},
   "outputs": [
    {
     "name": "stderr",
     "output_type": "stream",
     "text": [
      " 66%|███████████████████████████████████████████████▉                         | 68047/103689 [00:10<00:10, 3297.61it/s]"
     ]
    }
   ],
   "source": [
    "adjacency_matrix = np.zeros((num_nodes, num_nodes))\n",
    "\n",
    "for i in tqdm(range(3, len(data))):\n",
    "    st = data.iloc[i][0]\n",
    "    nodes = st.split()\n",
    "    node1 = int(nodes[0])\n",
    "    node2 = int(nodes[1])\n",
    "    ind1 = unique_nodes.index(node1)\n",
    "    ind2 = unique_nodes.index(node2)\n",
    "    adjacency_matrix[ind1][ind2] = 1"
   ]
  },
  {
   "cell_type": "code",
   "execution_count": null,
   "id": "0d13a65b",
   "metadata": {},
   "outputs": [],
   "source": [
    "num_triangles = np.diag(np.linalg.matrix_power(adjacency_matrix, 3))"
   ]
  },
  {
   "cell_type": "code",
   "execution_count": null,
   "id": "5ade2ec0",
   "metadata": {},
   "outputs": [],
   "source": [
    "lcc = {}\n",
    "\n",
    "for node in tqdm(unique_nodes):\n",
    "    connected_trip = in_degree[node] * out_degree[node]\n",
    "    if connected_trip > 0:\n",
    "        ind = unique_nodes.index(node)\n",
    "        lcc[node] = num_triangles[ind] / connected_trip\n",
    "    else:\n",
    "        lcc[node] = 0"
   ]
  },
  {
   "cell_type": "code",
   "execution_count": null,
   "id": "6c5a74e9",
   "metadata": {},
   "outputs": [],
   "source": [
    "plt.hist(lcc.values())\n",
    "plt.title(\"LCC vs frequency of LCC\")\n",
    "plt.show()"
   ]
  },
  {
   "cell_type": "code",
   "execution_count": null,
   "id": "c5a07f06",
   "metadata": {},
   "outputs": [],
   "source": []
  },
  {
   "cell_type": "code",
   "execution_count": null,
   "id": "1b00f4d3",
   "metadata": {},
   "outputs": [],
   "source": []
  }
 ],
 "metadata": {
  "kernelspec": {
   "display_name": "Python 3",
   "language": "python",
   "name": "python3"
  },
  "language_info": {
   "codemirror_mode": {
    "name": "ipython",
    "version": 3
   },
   "file_extension": ".py",
   "mimetype": "text/x-python",
   "name": "python",
   "nbconvert_exporter": "python",
   "pygments_lexer": "ipython3",
   "version": "3.8.8"
  }
 },
 "nbformat": 4,
 "nbformat_minor": 5
}
